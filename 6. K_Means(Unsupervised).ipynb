{
  "nbformat": 4,
  "nbformat_minor": 0,
  "metadata": {
    "colab": {
      "provenance": []
    },
    "kernelspec": {
      "name": "python3",
      "display_name": "Python 3"
    },
    "language_info": {
      "name": "python"
    }
  },
  "cells": [
    {
      "cell_type": "code",
      "source": [
        "import pandas as pd\n",
        "import numpy as np"
      ],
      "metadata": {
        "id": "3BMDi6gyHHqH"
      },
      "execution_count": null,
      "outputs": []
    },
    {
      "cell_type": "code",
      "execution_count": null,
      "metadata": {
        "id": "UQ9D-ZfDCg0a"
      },
      "outputs": [],
      "source": [
        "from sklearn.datasets import load_wine"
      ]
    },
    {
      "cell_type": "code",
      "source": [
        "data=load_wine()"
      ],
      "metadata": {
        "id": "G8ARlurdHCMg"
      },
      "execution_count": null,
      "outputs": []
    },
    {
      "cell_type": "code",
      "source": [
        "df=pd.DataFrame(data.data,columns=data.feature_names)"
      ],
      "metadata": {
        "id": "rxk_rCYoHFCg"
      },
      "execution_count": null,
      "outputs": []
    },
    {
      "cell_type": "code",
      "source": [
        "df.isnull().sum()"
      ],
      "metadata": {
        "colab": {
          "base_uri": "https://localhost:8080/",
          "height": 491
        },
        "id": "KG5LcvFRHPoO",
        "outputId": "87d77e04-e12f-4d38-f92a-6bac0bf11d0e"
      },
      "execution_count": null,
      "outputs": [
        {
          "output_type": "execute_result",
          "data": {
            "text/plain": [
              "alcohol                         0\n",
              "malic_acid                      0\n",
              "ash                             0\n",
              "alcalinity_of_ash               0\n",
              "magnesium                       0\n",
              "total_phenols                   0\n",
              "flavanoids                      0\n",
              "nonflavanoid_phenols            0\n",
              "proanthocyanins                 0\n",
              "color_intensity                 0\n",
              "hue                             0\n",
              "od280/od315_of_diluted_wines    0\n",
              "proline                         0\n",
              "dtype: int64"
            ],
            "text/html": [
              "<div>\n",
              "<style scoped>\n",
              "    .dataframe tbody tr th:only-of-type {\n",
              "        vertical-align: middle;\n",
              "    }\n",
              "\n",
              "    .dataframe tbody tr th {\n",
              "        vertical-align: top;\n",
              "    }\n",
              "\n",
              "    .dataframe thead th {\n",
              "        text-align: right;\n",
              "    }\n",
              "</style>\n",
              "<table border=\"1\" class=\"dataframe\">\n",
              "  <thead>\n",
              "    <tr style=\"text-align: right;\">\n",
              "      <th></th>\n",
              "      <th>0</th>\n",
              "    </tr>\n",
              "  </thead>\n",
              "  <tbody>\n",
              "    <tr>\n",
              "      <th>alcohol</th>\n",
              "      <td>0</td>\n",
              "    </tr>\n",
              "    <tr>\n",
              "      <th>malic_acid</th>\n",
              "      <td>0</td>\n",
              "    </tr>\n",
              "    <tr>\n",
              "      <th>ash</th>\n",
              "      <td>0</td>\n",
              "    </tr>\n",
              "    <tr>\n",
              "      <th>alcalinity_of_ash</th>\n",
              "      <td>0</td>\n",
              "    </tr>\n",
              "    <tr>\n",
              "      <th>magnesium</th>\n",
              "      <td>0</td>\n",
              "    </tr>\n",
              "    <tr>\n",
              "      <th>total_phenols</th>\n",
              "      <td>0</td>\n",
              "    </tr>\n",
              "    <tr>\n",
              "      <th>flavanoids</th>\n",
              "      <td>0</td>\n",
              "    </tr>\n",
              "    <tr>\n",
              "      <th>nonflavanoid_phenols</th>\n",
              "      <td>0</td>\n",
              "    </tr>\n",
              "    <tr>\n",
              "      <th>proanthocyanins</th>\n",
              "      <td>0</td>\n",
              "    </tr>\n",
              "    <tr>\n",
              "      <th>color_intensity</th>\n",
              "      <td>0</td>\n",
              "    </tr>\n",
              "    <tr>\n",
              "      <th>hue</th>\n",
              "      <td>0</td>\n",
              "    </tr>\n",
              "    <tr>\n",
              "      <th>od280/od315_of_diluted_wines</th>\n",
              "      <td>0</td>\n",
              "    </tr>\n",
              "    <tr>\n",
              "      <th>proline</th>\n",
              "      <td>0</td>\n",
              "    </tr>\n",
              "  </tbody>\n",
              "</table>\n",
              "</div><br><label><b>dtype:</b> int64</label>"
            ]
          },
          "metadata": {},
          "execution_count": 76
        }
      ]
    },
    {
      "cell_type": "code",
      "source": [
        "from sklearn.preprocessing import StandardScaler\n",
        "scaler=StandardScaler()"
      ],
      "metadata": {
        "id": "H7Jy_vLRHhMo"
      },
      "execution_count": null,
      "outputs": []
    },
    {
      "cell_type": "code",
      "source": [
        "df=scaler.fit_transform(df)"
      ],
      "metadata": {
        "id": "pAKDWqOPIeqZ"
      },
      "execution_count": null,
      "outputs": []
    },
    {
      "cell_type": "code",
      "source": [
        "df=pd.DataFrame(df,columns=data.feature_names)"
      ],
      "metadata": {
        "id": "Up0crKv6IlTE"
      },
      "execution_count": null,
      "outputs": []
    },
    {
      "cell_type": "code",
      "source": [
        "df"
      ],
      "metadata": {
        "colab": {
          "base_uri": "https://localhost:8080/",
          "height": 443
        },
        "id": "jWGkE2p0NBbw",
        "outputId": "6764abb7-aabd-4fe1-a008-73b44f578064"
      },
      "execution_count": null,
      "outputs": [
        {
          "output_type": "execute_result",
          "data": {
            "text/plain": [
              "      alcohol  malic_acid  ...  od280/od315_of_diluted_wines   proline\n",
              "0    1.518613   -0.562250  ...                      1.847920  1.013009\n",
              "1    0.246290   -0.499413  ...                      1.113449  0.965242\n",
              "2    0.196879    0.021231  ...                      0.788587  1.395148\n",
              "3    1.691550   -0.346811  ...                      1.184071  2.334574\n",
              "4    0.295700    0.227694  ...                      0.449601 -0.037874\n",
              "..        ...         ...  ...                           ...       ...\n",
              "173  0.876275    2.974543  ...                     -1.231206 -0.021952\n",
              "174  0.493343    1.412609  ...                     -1.485445  0.009893\n",
              "175  0.332758    1.744744  ...                     -1.485445  0.280575\n",
              "176  0.209232    0.227694  ...                     -1.400699  0.296498\n",
              "177  1.395086    1.583165  ...                     -1.428948 -0.595160\n",
              "\n",
              "[178 rows x 13 columns]"
            ],
            "text/html": [
              "\n",
              "  <div id=\"df-931078a7-ecf6-43d5-ba11-ae60d3d98236\" class=\"colab-df-container\">\n",
              "    <div>\n",
              "<style scoped>\n",
              "    .dataframe tbody tr th:only-of-type {\n",
              "        vertical-align: middle;\n",
              "    }\n",
              "\n",
              "    .dataframe tbody tr th {\n",
              "        vertical-align: top;\n",
              "    }\n",
              "\n",
              "    .dataframe thead th {\n",
              "        text-align: right;\n",
              "    }\n",
              "</style>\n",
              "<table border=\"1\" class=\"dataframe\">\n",
              "  <thead>\n",
              "    <tr style=\"text-align: right;\">\n",
              "      <th></th>\n",
              "      <th>alcohol</th>\n",
              "      <th>malic_acid</th>\n",
              "      <th>ash</th>\n",
              "      <th>alcalinity_of_ash</th>\n",
              "      <th>magnesium</th>\n",
              "      <th>total_phenols</th>\n",
              "      <th>flavanoids</th>\n",
              "      <th>nonflavanoid_phenols</th>\n",
              "      <th>proanthocyanins</th>\n",
              "      <th>color_intensity</th>\n",
              "      <th>hue</th>\n",
              "      <th>od280/od315_of_diluted_wines</th>\n",
              "      <th>proline</th>\n",
              "    </tr>\n",
              "  </thead>\n",
              "  <tbody>\n",
              "    <tr>\n",
              "      <th>0</th>\n",
              "      <td>1.518613</td>\n",
              "      <td>-0.562250</td>\n",
              "      <td>0.232053</td>\n",
              "      <td>-1.169593</td>\n",
              "      <td>1.913905</td>\n",
              "      <td>0.808997</td>\n",
              "      <td>1.034819</td>\n",
              "      <td>-0.659563</td>\n",
              "      <td>1.224884</td>\n",
              "      <td>0.251717</td>\n",
              "      <td>0.362177</td>\n",
              "      <td>1.847920</td>\n",
              "      <td>1.013009</td>\n",
              "    </tr>\n",
              "    <tr>\n",
              "      <th>1</th>\n",
              "      <td>0.246290</td>\n",
              "      <td>-0.499413</td>\n",
              "      <td>-0.827996</td>\n",
              "      <td>-2.490847</td>\n",
              "      <td>0.018145</td>\n",
              "      <td>0.568648</td>\n",
              "      <td>0.733629</td>\n",
              "      <td>-0.820719</td>\n",
              "      <td>-0.544721</td>\n",
              "      <td>-0.293321</td>\n",
              "      <td>0.406051</td>\n",
              "      <td>1.113449</td>\n",
              "      <td>0.965242</td>\n",
              "    </tr>\n",
              "    <tr>\n",
              "      <th>2</th>\n",
              "      <td>0.196879</td>\n",
              "      <td>0.021231</td>\n",
              "      <td>1.109334</td>\n",
              "      <td>-0.268738</td>\n",
              "      <td>0.088358</td>\n",
              "      <td>0.808997</td>\n",
              "      <td>1.215533</td>\n",
              "      <td>-0.498407</td>\n",
              "      <td>2.135968</td>\n",
              "      <td>0.269020</td>\n",
              "      <td>0.318304</td>\n",
              "      <td>0.788587</td>\n",
              "      <td>1.395148</td>\n",
              "    </tr>\n",
              "    <tr>\n",
              "      <th>3</th>\n",
              "      <td>1.691550</td>\n",
              "      <td>-0.346811</td>\n",
              "      <td>0.487926</td>\n",
              "      <td>-0.809251</td>\n",
              "      <td>0.930918</td>\n",
              "      <td>2.491446</td>\n",
              "      <td>1.466525</td>\n",
              "      <td>-0.981875</td>\n",
              "      <td>1.032155</td>\n",
              "      <td>1.186068</td>\n",
              "      <td>-0.427544</td>\n",
              "      <td>1.184071</td>\n",
              "      <td>2.334574</td>\n",
              "    </tr>\n",
              "    <tr>\n",
              "      <th>4</th>\n",
              "      <td>0.295700</td>\n",
              "      <td>0.227694</td>\n",
              "      <td>1.840403</td>\n",
              "      <td>0.451946</td>\n",
              "      <td>1.281985</td>\n",
              "      <td>0.808997</td>\n",
              "      <td>0.663351</td>\n",
              "      <td>0.226796</td>\n",
              "      <td>0.401404</td>\n",
              "      <td>-0.319276</td>\n",
              "      <td>0.362177</td>\n",
              "      <td>0.449601</td>\n",
              "      <td>-0.037874</td>\n",
              "    </tr>\n",
              "    <tr>\n",
              "      <th>...</th>\n",
              "      <td>...</td>\n",
              "      <td>...</td>\n",
              "      <td>...</td>\n",
              "      <td>...</td>\n",
              "      <td>...</td>\n",
              "      <td>...</td>\n",
              "      <td>...</td>\n",
              "      <td>...</td>\n",
              "      <td>...</td>\n",
              "      <td>...</td>\n",
              "      <td>...</td>\n",
              "      <td>...</td>\n",
              "      <td>...</td>\n",
              "    </tr>\n",
              "    <tr>\n",
              "      <th>173</th>\n",
              "      <td>0.876275</td>\n",
              "      <td>2.974543</td>\n",
              "      <td>0.305159</td>\n",
              "      <td>0.301803</td>\n",
              "      <td>-0.332922</td>\n",
              "      <td>-0.985614</td>\n",
              "      <td>-1.424900</td>\n",
              "      <td>1.274310</td>\n",
              "      <td>-0.930179</td>\n",
              "      <td>1.142811</td>\n",
              "      <td>-1.392758</td>\n",
              "      <td>-1.231206</td>\n",
              "      <td>-0.021952</td>\n",
              "    </tr>\n",
              "    <tr>\n",
              "      <th>174</th>\n",
              "      <td>0.493343</td>\n",
              "      <td>1.412609</td>\n",
              "      <td>0.414820</td>\n",
              "      <td>1.052516</td>\n",
              "      <td>0.158572</td>\n",
              "      <td>-0.793334</td>\n",
              "      <td>-1.284344</td>\n",
              "      <td>0.549108</td>\n",
              "      <td>-0.316950</td>\n",
              "      <td>0.969783</td>\n",
              "      <td>-1.129518</td>\n",
              "      <td>-1.485445</td>\n",
              "      <td>0.009893</td>\n",
              "    </tr>\n",
              "    <tr>\n",
              "      <th>175</th>\n",
              "      <td>0.332758</td>\n",
              "      <td>1.744744</td>\n",
              "      <td>-0.389355</td>\n",
              "      <td>0.151661</td>\n",
              "      <td>1.422412</td>\n",
              "      <td>-1.129824</td>\n",
              "      <td>-1.344582</td>\n",
              "      <td>0.549108</td>\n",
              "      <td>-0.422075</td>\n",
              "      <td>2.224236</td>\n",
              "      <td>-1.612125</td>\n",
              "      <td>-1.485445</td>\n",
              "      <td>0.280575</td>\n",
              "    </tr>\n",
              "    <tr>\n",
              "      <th>176</th>\n",
              "      <td>0.209232</td>\n",
              "      <td>0.227694</td>\n",
              "      <td>0.012732</td>\n",
              "      <td>0.151661</td>\n",
              "      <td>1.422412</td>\n",
              "      <td>-1.033684</td>\n",
              "      <td>-1.354622</td>\n",
              "      <td>1.354888</td>\n",
              "      <td>-0.229346</td>\n",
              "      <td>1.834923</td>\n",
              "      <td>-1.568252</td>\n",
              "      <td>-1.400699</td>\n",
              "      <td>0.296498</td>\n",
              "    </tr>\n",
              "    <tr>\n",
              "      <th>177</th>\n",
              "      <td>1.395086</td>\n",
              "      <td>1.583165</td>\n",
              "      <td>1.365208</td>\n",
              "      <td>1.502943</td>\n",
              "      <td>-0.262708</td>\n",
              "      <td>-0.392751</td>\n",
              "      <td>-1.274305</td>\n",
              "      <td>1.596623</td>\n",
              "      <td>-0.422075</td>\n",
              "      <td>1.791666</td>\n",
              "      <td>-1.524378</td>\n",
              "      <td>-1.428948</td>\n",
              "      <td>-0.595160</td>\n",
              "    </tr>\n",
              "  </tbody>\n",
              "</table>\n",
              "<p>178 rows × 13 columns</p>\n",
              "</div>\n",
              "    <div class=\"colab-df-buttons\">\n",
              "\n",
              "  <div class=\"colab-df-container\">\n",
              "    <button class=\"colab-df-convert\" onclick=\"convertToInteractive('df-931078a7-ecf6-43d5-ba11-ae60d3d98236')\"\n",
              "            title=\"Convert this dataframe to an interactive table.\"\n",
              "            style=\"display:none;\">\n",
              "\n",
              "  <svg xmlns=\"http://www.w3.org/2000/svg\" height=\"24px\" viewBox=\"0 -960 960 960\">\n",
              "    <path d=\"M120-120v-720h720v720H120Zm60-500h600v-160H180v160Zm220 220h160v-160H400v160Zm0 220h160v-160H400v160ZM180-400h160v-160H180v160Zm440 0h160v-160H620v160ZM180-180h160v-160H180v160Zm440 0h160v-160H620v160Z\"/>\n",
              "  </svg>\n",
              "    </button>\n",
              "\n",
              "  <style>\n",
              "    .colab-df-container {\n",
              "      display:flex;\n",
              "      gap: 12px;\n",
              "    }\n",
              "\n",
              "    .colab-df-convert {\n",
              "      background-color: #E8F0FE;\n",
              "      border: none;\n",
              "      border-radius: 50%;\n",
              "      cursor: pointer;\n",
              "      display: none;\n",
              "      fill: #1967D2;\n",
              "      height: 32px;\n",
              "      padding: 0 0 0 0;\n",
              "      width: 32px;\n",
              "    }\n",
              "\n",
              "    .colab-df-convert:hover {\n",
              "      background-color: #E2EBFA;\n",
              "      box-shadow: 0px 1px 2px rgba(60, 64, 67, 0.3), 0px 1px 3px 1px rgba(60, 64, 67, 0.15);\n",
              "      fill: #174EA6;\n",
              "    }\n",
              "\n",
              "    .colab-df-buttons div {\n",
              "      margin-bottom: 4px;\n",
              "    }\n",
              "\n",
              "    [theme=dark] .colab-df-convert {\n",
              "      background-color: #3B4455;\n",
              "      fill: #D2E3FC;\n",
              "    }\n",
              "\n",
              "    [theme=dark] .colab-df-convert:hover {\n",
              "      background-color: #434B5C;\n",
              "      box-shadow: 0px 1px 3px 1px rgba(0, 0, 0, 0.15);\n",
              "      filter: drop-shadow(0px 1px 2px rgba(0, 0, 0, 0.3));\n",
              "      fill: #FFFFFF;\n",
              "    }\n",
              "  </style>\n",
              "\n",
              "    <script>\n",
              "      const buttonEl =\n",
              "        document.querySelector('#df-931078a7-ecf6-43d5-ba11-ae60d3d98236 button.colab-df-convert');\n",
              "      buttonEl.style.display =\n",
              "        google.colab.kernel.accessAllowed ? 'block' : 'none';\n",
              "\n",
              "      async function convertToInteractive(key) {\n",
              "        const element = document.querySelector('#df-931078a7-ecf6-43d5-ba11-ae60d3d98236');\n",
              "        const dataTable =\n",
              "          await google.colab.kernel.invokeFunction('convertToInteractive',\n",
              "                                                    [key], {});\n",
              "        if (!dataTable) return;\n",
              "\n",
              "        const docLinkHtml = 'Like what you see? Visit the ' +\n",
              "          '<a target=\"_blank\" href=https://colab.research.google.com/notebooks/data_table.ipynb>data table notebook</a>'\n",
              "          + ' to learn more about interactive tables.';\n",
              "        element.innerHTML = '';\n",
              "        dataTable['output_type'] = 'display_data';\n",
              "        await google.colab.output.renderOutput(dataTable, element);\n",
              "        const docLink = document.createElement('div');\n",
              "        docLink.innerHTML = docLinkHtml;\n",
              "        element.appendChild(docLink);\n",
              "      }\n",
              "    </script>\n",
              "  </div>\n",
              "\n",
              "\n",
              "    <div id=\"df-84f62587-5f1e-462e-924e-2a4c7e296c5b\">\n",
              "      <button class=\"colab-df-quickchart\" onclick=\"quickchart('df-84f62587-5f1e-462e-924e-2a4c7e296c5b')\"\n",
              "                title=\"Suggest charts\"\n",
              "                style=\"display:none;\">\n",
              "\n",
              "<svg xmlns=\"http://www.w3.org/2000/svg\" height=\"24px\"viewBox=\"0 0 24 24\"\n",
              "     width=\"24px\">\n",
              "    <g>\n",
              "        <path d=\"M19 3H5c-1.1 0-2 .9-2 2v14c0 1.1.9 2 2 2h14c1.1 0 2-.9 2-2V5c0-1.1-.9-2-2-2zM9 17H7v-7h2v7zm4 0h-2V7h2v10zm4 0h-2v-4h2v4z\"/>\n",
              "    </g>\n",
              "</svg>\n",
              "      </button>\n",
              "\n",
              "<style>\n",
              "  .colab-df-quickchart {\n",
              "      --bg-color: #E8F0FE;\n",
              "      --fill-color: #1967D2;\n",
              "      --hover-bg-color: #E2EBFA;\n",
              "      --hover-fill-color: #174EA6;\n",
              "      --disabled-fill-color: #AAA;\n",
              "      --disabled-bg-color: #DDD;\n",
              "  }\n",
              "\n",
              "  [theme=dark] .colab-df-quickchart {\n",
              "      --bg-color: #3B4455;\n",
              "      --fill-color: #D2E3FC;\n",
              "      --hover-bg-color: #434B5C;\n",
              "      --hover-fill-color: #FFFFFF;\n",
              "      --disabled-bg-color: #3B4455;\n",
              "      --disabled-fill-color: #666;\n",
              "  }\n",
              "\n",
              "  .colab-df-quickchart {\n",
              "    background-color: var(--bg-color);\n",
              "    border: none;\n",
              "    border-radius: 50%;\n",
              "    cursor: pointer;\n",
              "    display: none;\n",
              "    fill: var(--fill-color);\n",
              "    height: 32px;\n",
              "    padding: 0;\n",
              "    width: 32px;\n",
              "  }\n",
              "\n",
              "  .colab-df-quickchart:hover {\n",
              "    background-color: var(--hover-bg-color);\n",
              "    box-shadow: 0 1px 2px rgba(60, 64, 67, 0.3), 0 1px 3px 1px rgba(60, 64, 67, 0.15);\n",
              "    fill: var(--button-hover-fill-color);\n",
              "  }\n",
              "\n",
              "  .colab-df-quickchart-complete:disabled,\n",
              "  .colab-df-quickchart-complete:disabled:hover {\n",
              "    background-color: var(--disabled-bg-color);\n",
              "    fill: var(--disabled-fill-color);\n",
              "    box-shadow: none;\n",
              "  }\n",
              "\n",
              "  .colab-df-spinner {\n",
              "    border: 2px solid var(--fill-color);\n",
              "    border-color: transparent;\n",
              "    border-bottom-color: var(--fill-color);\n",
              "    animation:\n",
              "      spin 1s steps(1) infinite;\n",
              "  }\n",
              "\n",
              "  @keyframes spin {\n",
              "    0% {\n",
              "      border-color: transparent;\n",
              "      border-bottom-color: var(--fill-color);\n",
              "      border-left-color: var(--fill-color);\n",
              "    }\n",
              "    20% {\n",
              "      border-color: transparent;\n",
              "      border-left-color: var(--fill-color);\n",
              "      border-top-color: var(--fill-color);\n",
              "    }\n",
              "    30% {\n",
              "      border-color: transparent;\n",
              "      border-left-color: var(--fill-color);\n",
              "      border-top-color: var(--fill-color);\n",
              "      border-right-color: var(--fill-color);\n",
              "    }\n",
              "    40% {\n",
              "      border-color: transparent;\n",
              "      border-right-color: var(--fill-color);\n",
              "      border-top-color: var(--fill-color);\n",
              "    }\n",
              "    60% {\n",
              "      border-color: transparent;\n",
              "      border-right-color: var(--fill-color);\n",
              "    }\n",
              "    80% {\n",
              "      border-color: transparent;\n",
              "      border-right-color: var(--fill-color);\n",
              "      border-bottom-color: var(--fill-color);\n",
              "    }\n",
              "    90% {\n",
              "      border-color: transparent;\n",
              "      border-bottom-color: var(--fill-color);\n",
              "    }\n",
              "  }\n",
              "</style>\n",
              "\n",
              "      <script>\n",
              "        async function quickchart(key) {\n",
              "          const quickchartButtonEl =\n",
              "            document.querySelector('#' + key + ' button');\n",
              "          quickchartButtonEl.disabled = true;  // To prevent multiple clicks.\n",
              "          quickchartButtonEl.classList.add('colab-df-spinner');\n",
              "          try {\n",
              "            const charts = await google.colab.kernel.invokeFunction(\n",
              "                'suggestCharts', [key], {});\n",
              "          } catch (error) {\n",
              "            console.error('Error during call to suggestCharts:', error);\n",
              "          }\n",
              "          quickchartButtonEl.classList.remove('colab-df-spinner');\n",
              "          quickchartButtonEl.classList.add('colab-df-quickchart-complete');\n",
              "        }\n",
              "        (() => {\n",
              "          let quickchartButtonEl =\n",
              "            document.querySelector('#df-84f62587-5f1e-462e-924e-2a4c7e296c5b button');\n",
              "          quickchartButtonEl.style.display =\n",
              "            google.colab.kernel.accessAllowed ? 'block' : 'none';\n",
              "        })();\n",
              "      </script>\n",
              "    </div>\n",
              "\n",
              "  <div id=\"id_ce128e4d-a87c-465a-bba5-f1bba4d484ac\">\n",
              "    <style>\n",
              "      .colab-df-generate {\n",
              "        background-color: #E8F0FE;\n",
              "        border: none;\n",
              "        border-radius: 50%;\n",
              "        cursor: pointer;\n",
              "        display: none;\n",
              "        fill: #1967D2;\n",
              "        height: 32px;\n",
              "        padding: 0 0 0 0;\n",
              "        width: 32px;\n",
              "      }\n",
              "\n",
              "      .colab-df-generate:hover {\n",
              "        background-color: #E2EBFA;\n",
              "        box-shadow: 0px 1px 2px rgba(60, 64, 67, 0.3), 0px 1px 3px 1px rgba(60, 64, 67, 0.15);\n",
              "        fill: #174EA6;\n",
              "      }\n",
              "\n",
              "      [theme=dark] .colab-df-generate {\n",
              "        background-color: #3B4455;\n",
              "        fill: #D2E3FC;\n",
              "      }\n",
              "\n",
              "      [theme=dark] .colab-df-generate:hover {\n",
              "        background-color: #434B5C;\n",
              "        box-shadow: 0px 1px 3px 1px rgba(0, 0, 0, 0.15);\n",
              "        filter: drop-shadow(0px 1px 2px rgba(0, 0, 0, 0.3));\n",
              "        fill: #FFFFFF;\n",
              "      }\n",
              "    </style>\n",
              "    <button class=\"colab-df-generate\" onclick=\"generateWithVariable('df')\"\n",
              "            title=\"Generate code using this dataframe.\"\n",
              "            style=\"display:none;\">\n",
              "\n",
              "  <svg xmlns=\"http://www.w3.org/2000/svg\" height=\"24px\"viewBox=\"0 0 24 24\"\n",
              "       width=\"24px\">\n",
              "    <path d=\"M7,19H8.4L18.45,9,17,7.55,7,17.6ZM5,21V16.75L18.45,3.32a2,2,0,0,1,2.83,0l1.4,1.43a1.91,1.91,0,0,1,.58,1.4,1.91,1.91,0,0,1-.58,1.4L9.25,21ZM18.45,9,17,7.55Zm-12,3A5.31,5.31,0,0,0,4.9,8.1,5.31,5.31,0,0,0,1,6.5,5.31,5.31,0,0,0,4.9,4.9,5.31,5.31,0,0,0,6.5,1,5.31,5.31,0,0,0,8.1,4.9,5.31,5.31,0,0,0,12,6.5,5.46,5.46,0,0,0,6.5,12Z\"/>\n",
              "  </svg>\n",
              "    </button>\n",
              "    <script>\n",
              "      (() => {\n",
              "      const buttonEl =\n",
              "        document.querySelector('#id_ce128e4d-a87c-465a-bba5-f1bba4d484ac button.colab-df-generate');\n",
              "      buttonEl.style.display =\n",
              "        google.colab.kernel.accessAllowed ? 'block' : 'none';\n",
              "\n",
              "      buttonEl.onclick = () => {\n",
              "        google.colab.notebook.generateWithVariable('df');\n",
              "      }\n",
              "      })();\n",
              "    </script>\n",
              "  </div>\n",
              "\n",
              "    </div>\n",
              "  </div>\n"
            ],
            "application/vnd.google.colaboratory.intrinsic+json": {
              "type": "dataframe",
              "variable_name": "df",
              "summary": "{\n  \"name\": \"df\",\n  \"rows\": 178,\n  \"fields\": [\n    {\n      \"column\": \"alcohol\",\n      \"properties\": {\n        \"dtype\": \"number\",\n        \"std\": 1.0028208800748635,\n        \"min\": -2.434235347085688,\n        \"max\": 2.2597715200031865,\n        \"num_unique_values\": 126,\n        \"samples\": [\n          -1.7054290177218894,\n          0.7898062116253557,\n          0.8515694598765238\n        ],\n        \"semantic_type\": \"\",\n        \"description\": \"\"\n      }\n    },\n    {\n      \"column\": \"malic_acid\",\n      \"properties\": {\n        \"dtype\": \"number\",\n        \"std\": 1.0028208800748635,\n        \"min\": -1.4329830495567162,\n        \"max\": 3.1091924671589037,\n        \"num_unique_values\": 133,\n        \"samples\": [\n          -1.0110813711266091,\n          0.44313292473886606,\n          -0.48146011522498544\n        ],\n        \"semantic_type\": \"\",\n        \"description\": \"\"\n      }\n    },\n    {\n      \"column\": \"ash\",\n      \"properties\": {\n        \"dtype\": \"number\",\n        \"std\": 1.0028208800748641,\n        \"min\": -3.6791622340370145,\n        \"max\": 3.156325269990443,\n        \"num_unique_values\": 79,\n        \"samples\": [\n          -0.20658836835461608,\n          0.23205254099473993,\n          0.5610332230067561\n        ],\n        \"semantic_type\": \"\",\n        \"description\": \"\"\n      }\n    },\n    {\n      \"column\": \"alcalinity_of_ash\",\n      \"properties\": {\n        \"dtype\": \"number\",\n        \"std\": 1.0028208800748641,\n        \"min\": -2.671018136468717,\n        \"max\": 3.154510713941043,\n        \"num_unique_values\": 63,\n        \"samples\": [\n          1.8032282486398101,\n          2.704083225507299,\n          -1.1695931750229027\n        ],\n        \"semantic_type\": \"\",\n        \"description\": \"\"\n      }\n    },\n    {\n      \"column\": \"magnesium\",\n      \"properties\": {\n        \"dtype\": \"number\",\n        \"std\": 1.0028208800748637,\n        \"min\": -2.0882551982316313,\n        \"max\": 4.371372139554767,\n        \"num_unique_values\": 53,\n        \"samples\": [\n          1.843691876942698,\n          -1.035055088809936,\n          4.371372139554767\n        ],\n        \"semantic_type\": \"\",\n        \"description\": \"\"\n      }\n    },\n    {\n      \"column\": \"total_phenols\",\n      \"properties\": {\n        \"dtype\": \"number\",\n        \"std\": 1.0028208800748637,\n        \"min\": -2.1072460232492967,\n        \"max\": 2.539515466781405,\n        \"num_unique_values\": 97,\n        \"samples\": [\n          -0.9856139394487826,\n          -0.29661137368560975,\n          -1.5143833503833106\n        ],\n        \"semantic_type\": \"\",\n        \"description\": \"\"\n      }\n    },\n    {\n      \"column\": \"flavanoids\",\n      \"properties\": {\n        \"dtype\": \"number\",\n        \"std\": 1.002820880074864,\n        \"min\": -1.6959705266274108,\n        \"max\": 3.062831737252598,\n        \"num_unique_values\": 132,\n        \"samples\": [\n          1.1552949648112445,\n          0.47259759362170717,\n          1.1452552975878687\n        ],\n        \"semantic_type\": \"\",\n        \"description\": \"\"\n      }\n    },\n    {\n      \"column\": \"nonflavanoid_phenols\",\n      \"properties\": {\n        \"dtype\": \"number\",\n        \"std\": 1.0028208800748637,\n        \"min\": -1.8682340238414572,\n        \"max\": 2.402403189853794,\n        \"num_unique_values\": 39,\n        \"samples\": [\n          1.757778704767718,\n          0.3879516739598074,\n          0.2267955526882888\n        ],\n        \"semantic_type\": \"\",\n        \"description\": \"\"\n      }\n    },\n    {\n      \"column\": \"proanthocyanins\",\n      \"properties\": {\n        \"dtype\": \"number\",\n        \"std\": 1.0028208800748641,\n        \"min\": -2.0690341807257107,\n        \"max\": 3.485072512025424,\n        \"num_unique_values\": 101,\n        \"samples\": [\n          -1.4733255764558728,\n          0.31380023635364057,\n          -0.2994292092182514\n        ],\n        \"semantic_type\": \"\",\n        \"description\": \"\"\n      }\n    },\n    {\n      \"column\": \"color_intensity\",\n      \"properties\": {\n        \"dtype\": \"number\",\n        \"std\": 1.002820880074864,\n        \"min\": -1.6342882758947095,\n        \"max\": 3.4354319244178955,\n        \"num_unique_values\": 132,\n        \"samples\": [\n          -0.9118964043484594,\n          -0.7604969103118204,\n          0.018129059019466976\n        ],\n        \"semantic_type\": \"\",\n        \"description\": \"\"\n      }\n    },\n    {\n      \"column\": \"hue\",\n      \"properties\": {\n        \"dtype\": \"number\",\n        \"std\": 1.0028208800748641,\n        \"min\": -2.094732405017083,\n        \"max\": 3.3016942153020343,\n        \"num_unique_values\": 78,\n        \"samples\": [\n          1.1518982446058006,\n          0.3621772757786129,\n          2.1609861492183184\n        ],\n        \"semantic_type\": \"\",\n        \"description\": \"\"\n      }\n    },\n    {\n      \"column\": \"od280/od315_of_diluted_wines\",\n      \"properties\": {\n        \"dtype\": \"number\",\n        \"std\": 1.0028208800748637,\n        \"min\": -1.895053894164883,\n        \"max\": 1.9609149917344735,\n        \"num_unique_values\": 122,\n        \"samples\": [\n          1.9609149917344735,\n          -1.1182103457236205,\n          -1.443072193253603\n        ],\n        \"semantic_type\": \"\",\n        \"description\": \"\"\n      }\n    },\n    {\n      \"column\": \"proline\",\n      \"properties\": {\n        \"dtype\": \"number\",\n        \"std\": 1.0028208800748637,\n        \"min\": -1.4931876455352515,\n        \"max\": 2.971472575990397,\n        \"num_unique_values\": 121,\n        \"samples\": [\n          2.000201985715559,\n          1.6658301431619265,\n          -0.03787400699229762\n        ],\n        \"semantic_type\": \"\",\n        \"description\": \"\"\n      }\n    }\n  ]\n}"
            }
          },
          "metadata": {},
          "execution_count": 80
        }
      ]
    },
    {
      "cell_type": "code",
      "source": [
        "from sklearn.decomposition import PCA\n",
        "pca=PCA(n_components=2)\n",
        "pca_data=pca.fit_transform(df)"
      ],
      "metadata": {
        "id": "leRieL9PNvd4"
      },
      "execution_count": null,
      "outputs": []
    },
    {
      "cell_type": "code",
      "source": [
        "pca_data"
      ],
      "metadata": {
        "colab": {
          "base_uri": "https://localhost:8080/"
        },
        "id": "v7PfKr63OCib",
        "outputId": "036c2802-4cbb-42a1-eb20-eea0db99633f"
      },
      "execution_count": null,
      "outputs": [
        {
          "output_type": "execute_result",
          "data": {
            "text/plain": [
              "array([[ 3.31675081,  1.44346263],\n",
              "       [ 2.20946492, -0.33339289],\n",
              "       [ 2.51674015,  1.0311513 ],\n",
              "       [ 3.75706561,  2.75637191],\n",
              "       [ 1.00890849,  0.86983082],\n",
              "       [ 3.05025392,  2.12240111],\n",
              "       [ 2.44908967,  1.17485013],\n",
              "       [ 2.05943687,  1.60896307],\n",
              "       [ 2.5108743 ,  0.91807096],\n",
              "       [ 2.75362819,  0.78943767],\n",
              "       [ 3.47973668,  1.30233324],\n",
              "       [ 1.7547529 ,  0.61197723],\n",
              "       [ 2.11346234,  0.67570634],\n",
              "       [ 3.45815682,  1.13062988],\n",
              "       [ 4.31278391,  2.09597558],\n",
              "       [ 2.3051882 ,  1.66255173],\n",
              "       [ 2.17195527,  2.32730534],\n",
              "       [ 1.89897118,  1.63136888],\n",
              "       [ 3.54198508,  2.51834367],\n",
              "       [ 2.0845222 ,  1.06113799],\n",
              "       [ 3.12440254,  0.78689711],\n",
              "       [ 1.08657007,  0.24174355],\n",
              "       [ 2.53522408, -0.09184062],\n",
              "       [ 1.64498834, -0.51627893],\n",
              "       [ 1.76157587, -0.31714893],\n",
              "       [ 0.9900791 ,  0.94066734],\n",
              "       [ 1.77527763,  0.68617513],\n",
              "       [ 1.23542396, -0.08980704],\n",
              "       [ 2.18840633,  0.68956962],\n",
              "       [ 2.25610898,  0.19146194],\n",
              "       [ 2.50022003,  1.24083383],\n",
              "       [ 2.67741105,  1.47187365],\n",
              "       [ 1.62857912,  0.05270445],\n",
              "       [ 1.90269086,  1.63306043],\n",
              "       [ 1.41038853,  0.69793432],\n",
              "       [ 1.90382623,  0.17671095],\n",
              "       [ 1.38486223,  0.65863985],\n",
              "       [ 1.12220741,  0.11410976],\n",
              "       [ 1.5021945 , -0.76943201],\n",
              "       [ 2.52980109,  1.80300198],\n",
              "       [ 2.58809543,  0.7796163 ],\n",
              "       [ 0.66848199,  0.16996094],\n",
              "       [ 3.07080699,  1.15591896],\n",
              "       [ 0.46220914,  0.33074213],\n",
              "       [ 2.10135193, -0.07100892],\n",
              "       [ 1.13616618,  1.77710739],\n",
              "       [ 2.72660096,  1.19133469],\n",
              "       [ 2.82133927,  0.6462586 ],\n",
              "       [ 2.00985085,  1.24702946],\n",
              "       [ 2.7074913 ,  1.75196741],\n",
              "       [ 3.21491747,  0.16699199],\n",
              "       [ 2.85895983,  0.7452788 ],\n",
              "       [ 3.50560436,  1.61273386],\n",
              "       [ 2.22479138,  1.875168  ],\n",
              "       [ 2.14698782,  1.01675154],\n",
              "       [ 2.46932948,  1.32900831],\n",
              "       [ 2.74151791,  1.43654878],\n",
              "       [ 2.17374092,  1.21219984],\n",
              "       [ 3.13938015,  1.73157912],\n",
              "       [-0.92858197, -3.07348616],\n",
              "       [-1.54248014, -1.38144351],\n",
              "       [-1.83624976, -0.82998412],\n",
              "       [ 0.03060683, -1.26278614],\n",
              "       [ 2.05026161, -1.9250326 ],\n",
              "       [-0.60968083, -1.90805881],\n",
              "       [ 0.90022784, -0.76391147],\n",
              "       [ 2.24850719, -1.88459248],\n",
              "       [ 0.18338403, -2.42714611],\n",
              "       [-0.81280503, -0.22051399],\n",
              "       [ 1.9756205 , -1.40328323],\n",
              "       [-1.57221622, -0.88498314],\n",
              "       [ 1.65768181, -0.9567122 ],\n",
              "       [-0.72537239, -1.0636454 ],\n",
              "       [ 2.56222717,  0.26019855],\n",
              "       [ 1.83256757, -1.2878782 ],\n",
              "       [-0.8679929 , -2.44410119],\n",
              "       [ 0.3700144 , -2.15390698],\n",
              "       [-1.45737704, -1.38335177],\n",
              "       [ 1.26293085, -0.77084953],\n",
              "       [ 0.37615037, -1.0270434 ],\n",
              "       [ 0.7620639 , -3.37505381],\n",
              "       [ 1.03457797, -1.45070974],\n",
              "       [-0.49487676, -2.38124353],\n",
              "       [-2.53897708, -0.08744336],\n",
              "       [ 0.83532015, -1.47367055],\n",
              "       [ 0.78790461, -2.02662652],\n",
              "       [-0.80683216, -2.23383039],\n",
              "       [-0.55804262, -2.37298543],\n",
              "       [-1.11511104, -1.80224719],\n",
              "       [-0.55572283, -2.65754004],\n",
              "       [-1.34928528, -2.11800147],\n",
              "       [-1.56448261, -1.85221452],\n",
              "       [-1.93255561, -1.55949546],\n",
              "       [ 0.74666594, -2.31293171],\n",
              "       [ 0.95745536, -2.22352843],\n",
              "       [ 2.54386518,  0.16927402],\n",
              "       [-0.54395259, -0.36892655],\n",
              "       [ 1.03104975, -2.56556935],\n",
              "       [ 2.25190942, -1.43274138],\n",
              "       [ 1.41021602, -2.16619177],\n",
              "       [ 0.79771979, -2.3769488 ],\n",
              "       [-0.54953173, -2.29312864],\n",
              "       [-0.16117374, -1.16448332],\n",
              "       [-0.65979494, -2.67996119],\n",
              "       [ 0.39235441, -2.09873171],\n",
              "       [-1.77249908, -1.71728847],\n",
              "       [-0.36626736, -2.1693533 ],\n",
              "       [-1.62067257, -1.35558339],\n",
              "       [ 0.08253578, -2.30623459],\n",
              "       [ 1.57827507, -1.46203429],\n",
              "       [ 1.42056925, -1.41820664],\n",
              "       [-0.27870275, -1.93056809],\n",
              "       [-1.30314497, -0.76317231],\n",
              "       [-0.45707187, -2.26941561],\n",
              "       [-0.49418585, -1.93904505],\n",
              "       [ 0.48207441, -3.87178385],\n",
              "       [-0.25288888, -2.82149237],\n",
              "       [-0.10722764, -1.92892204],\n",
              "       [-2.4330126 , -1.25714104],\n",
              "       [-0.55108954, -2.22216155],\n",
              "       [ 0.73962193, -1.40895667],\n",
              "       [ 1.33632173,  0.25333693],\n",
              "       [-1.177087  , -0.66396684],\n",
              "       [-0.46233501, -0.61828818],\n",
              "       [ 0.97847408, -1.4455705 ],\n",
              "       [-0.09680973, -2.10999799],\n",
              "       [ 0.03848715, -1.26676211],\n",
              "       [-1.5971585 , -1.20814357],\n",
              "       [-0.47956492, -1.93884066],\n",
              "       [-1.79283347, -1.1502881 ],\n",
              "       [-1.32710166,  0.17038923],\n",
              "       [-2.38450083,  0.37458261],\n",
              "       [-2.9369401 ,  0.26386183],\n",
              "       [-2.14681113,  0.36825495],\n",
              "       [-2.36986949, -0.45963481],\n",
              "       [-3.06384157,  0.35341284],\n",
              "       [-3.91575378,  0.15458252],\n",
              "       [-3.93646339,  0.65968723],\n",
              "       [-3.09427612,  0.34884276],\n",
              "       [-2.37447163,  0.29198035],\n",
              "       [-2.77881295,  0.28680487],\n",
              "       [-2.28656128,  0.37250784],\n",
              "       [-2.98563349,  0.48921791],\n",
              "       [-2.3751947 ,  0.48233372],\n",
              "       [-2.20986553,  1.1600525 ],\n",
              "       [-2.625621  ,  0.56316076],\n",
              "       [-4.28063878,  0.64967096],\n",
              "       [-3.58264137,  1.27270275],\n",
              "       [-2.80706372,  1.57053379],\n",
              "       [-2.89965933,  2.04105701],\n",
              "       [-2.32073698,  2.35636608],\n",
              "       [-2.54983095,  2.04528309],\n",
              "       [-1.81254128,  1.52764595],\n",
              "       [-2.76014464,  2.13893235],\n",
              "       [-2.7371505 ,  0.40988627],\n",
              "       [-3.60486887,  1.80238422],\n",
              "       [-2.889826  ,  1.92521861],\n",
              "       [-3.39215608,  1.31187639],\n",
              "       [-1.0481819 ,  3.51508969],\n",
              "       [-1.60991228,  2.40663816],\n",
              "       [-3.14313097,  0.73816104],\n",
              "       [-2.2401569 ,  1.17546529],\n",
              "       [-2.84767378,  0.55604397],\n",
              "       [-2.59749706,  0.69796554],\n",
              "       [-2.94929937,  1.55530896],\n",
              "       [-3.53003227,  0.8825268 ],\n",
              "       [-2.40611054,  2.59235618],\n",
              "       [-2.92908473,  1.27444695],\n",
              "       [-2.18141278,  2.07753731],\n",
              "       [-2.38092779,  2.58866743],\n",
              "       [-3.21161722, -0.2512491 ],\n",
              "       [-3.67791872,  0.84774784],\n",
              "       [-2.4655558 ,  2.1937983 ],\n",
              "       [-3.37052415,  2.21628914],\n",
              "       [-2.60195585,  1.75722935],\n",
              "       [-2.67783946,  2.76089913],\n",
              "       [-2.38701709,  2.29734668],\n",
              "       [-3.20875816,  2.76891957]])"
            ]
          },
          "metadata": {},
          "execution_count": 82
        }
      ]
    },
    {
      "cell_type": "code",
      "source": [
        "from sklearn.cluster import KMeans\n"
      ],
      "metadata": {
        "id": "d2aCOhEbQgnW"
      },
      "execution_count": null,
      "outputs": []
    },
    {
      "cell_type": "code",
      "source": [
        "from sklearn.metrics import silhouette_score\n",
        "for k in range(2,11):\n",
        "    kmeans=KMeans(n_clusters=k,init='k-means++')\n",
        "    labels=kmeans.fit_predict(pca_data)\n",
        "    score=silhouette_score(pca_data,labels)\n",
        "    print(f\"for k={k} silhouette score is {score}\")"
      ],
      "metadata": {
        "colab": {
          "base_uri": "https://localhost:8080/"
        },
        "id": "LSfDAgyISf4b",
        "outputId": "b550db11-5a53-4b2f-c094-d6867aa4f195"
      },
      "execution_count": null,
      "outputs": [
        {
          "output_type": "stream",
          "name": "stdout",
          "text": [
            "for k=2 silhouette score is 0.4750102141135033\n",
            "for k=3 silhouette score is 0.5609305721582905\n",
            "for k=4 silhouette score is 0.4855976780800213\n",
            "for k=5 silhouette score is 0.43472272990179595\n",
            "for k=6 silhouette score is 0.41160507596437523\n",
            "for k=7 silhouette score is 0.44278472393501983\n",
            "for k=8 silhouette score is 0.4002186401470443\n",
            "for k=9 silhouette score is 0.4019372365993589\n",
            "for k=10 silhouette score is 0.4059278718172256\n"
          ]
        }
      ]
    },
    {
      "cell_type": "code",
      "source": [
        "# the highest silhouette_score is :for k=3 silhouette score is 0.5601697480957202"
      ],
      "metadata": {
        "id": "Z5e_Q5lGTd4g"
      },
      "execution_count": null,
      "outputs": []
    },
    {
      "cell_type": "code",
      "source": [
        "kmeans=KMeans(n_clusters=3,init='k-means++')\n",
        "y_labels=kmeans.fit_predict(pca_data)"
      ],
      "metadata": {
        "id": "lBiQRg0YTkQi"
      },
      "execution_count": null,
      "outputs": []
    },
    {
      "cell_type": "code",
      "source": [
        "plt.scatter(pca_data[:,0],pca_data[:,1],c=y_labels)\n",
        "plt.xlabel(\"PC1\")\n",
        "plt.ylabel(\"PC2\")\n",
        "plt.title(\"K-Means Clustering on PCA-Reduced Data (2D)\")\n",
        "plt.show()"
      ],
      "metadata": {
        "colab": {
          "base_uri": "https://localhost:8080/",
          "height": 472
        },
        "id": "inArWRdmVu7x",
        "outputId": "e8d7b602-8db2-477e-ae91-ae06a850784e"
      },
      "execution_count": null,
      "outputs": [
        {
          "output_type": "display_data",
          "data": {
            "text/plain": [
              "<Figure size 640x480 with 1 Axes>"
            ],
            "image/png": "[encoded data removed]"
          },
          "metadata": {}
        }
      ]
    },
    {
      "cell_type": "markdown",
      "source": [
        "**Alternate way to find k**"
      ],
      "metadata": {
        "id": "LXkquEAfcJUO"
      }
    },
    {
      "cell_type": "code",
      "source": [
        "!pip install kneed"
      ],
      "metadata": {
        "colab": {
          "base_uri": "https://localhost:8080/"
        },
        "id": "iYi5wgvAW3Iz",
        "outputId": "6050b9b1-4d5f-4533-9df0-93a678309c06"
      },
      "execution_count": null,
      "outputs": [
        {
          "output_type": "stream",
          "name": "stdout",
          "text": [
            "Collecting kneed\n",
            "  Downloading kneed-0.8.5-py3-none-any.whl.metadata (5.5 kB)\n",
            "Requirement already satisfied: numpy>=1.14.2 in /usr/local/lib/python3.12/dist-packages (from kneed) (2.0.2)\n",
            "Requirement already satisfied: scipy>=1.0.0 in /usr/local/lib/python3.12/dist-packages (from kneed) (1.16.2)\n",
            "Downloading kneed-0.8.5-py3-none-any.whl (10 kB)\n",
            "Installing collected packages: kneed\n",
            "Successfully installed kneed-0.8.5\n"
          ]
        }
      ]
    },
    {
      "cell_type": "code",
      "source": [
        "from kneed import KneeLocator"
      ],
      "metadata": {
        "id": "RZg83RnBW8Qt"
      },
      "execution_count": null,
      "outputs": []
    },
    {
      "cell_type": "code",
      "source": [
        "wcss=[]\n",
        "for k in range(1,11):\n",
        "  kmeans=KMeans(n_clusters=k,init='k-means++')\n",
        "  kmeans.fit(pca_data)\n",
        "  wcss.append(kmeans.inertia_)\n"
      ],
      "metadata": {
        "id": "8YpJRp2jXS1i"
      },
      "execution_count": null,
      "outputs": []
    },
    {
      "cell_type": "code",
      "source": [
        "kl=KneeLocator(range(1,11), wcss, curve='convex', direction='decreasing')\n",
        "kl.elbow"
      ],
      "metadata": {
        "colab": {
          "base_uri": "https://localhost:8080/"
        },
        "id": "fc-aUyxnXBAq",
        "outputId": "97a322e8-afc0-4efa-8a1d-48893d1256fc"
      },
      "execution_count": null,
      "outputs": [
        {
          "output_type": "execute_result",
          "data": {
            "text/plain": [
              "np.int64(3)"
            ]
          },
          "metadata": {},
          "execution_count": 100
        }
      ]
    },
    {
      "cell_type": "markdown",
      "source": [
        "# ***Final Result***"
      ],
      "metadata": {
        "id": "9MSURGKsiwYI"
      }
    },
    {
      "cell_type": "code",
      "source": [
        "plt.scatter(pca_data[:,0],pca_data[:,1],c=y_labels)\n",
        "plt.xlabel(\"PC1\")\n",
        "plt.ylabel(\"PC2\")\n",
        "plt.title(\"K-Means Clustering on PCA-Reduced Data (2D)\")\n",
        "\n",
        "\n",
        "centroids = kmeans.cluster_centers_\n",
        "plt.scatter(centroids[:, 0], centroids[:, 1], c='red', s=150, marker='X', label='Centroids')\n",
        "\n",
        "plt.legend()\n",
        "plt.grid(True)\n",
        "plt.show()"
      ],
      "metadata": {
        "colab": {
          "base_uri": "https://localhost:8080/",
          "height": 472
        },
        "id": "xfXu9kCui0FK",
        "outputId": "22c0a62d-e33a-4a6b-9e78-35cc58504588"
      },
      "execution_count": null,
      "outputs": [
        {
          "output_type": "display_data",
          "data": {
            "text/plain": [
              "<Figure size 640x480 with 1 Axes>"
            ],
            "image/png": "[encoded data removed]"
          },
          "metadata": {}
        }
      ]
    },
    {
      "cell_type": "code",
      "source": [
        "# Plot centroids (projected into PCA space)\n",
        "centroids = kmeans.cluster_centers_\n",
        "plt.scatter(centroids[:, 0], centroids[:, 1], c='red', s=150, marker='X', label='Centroids')\n",
        "\n",
        "plt.legend()\n",
        "plt.grid(True)\n",
        "plt.show()"
      ],
      "metadata": {
        "colab": {
          "base_uri": "https://localhost:8080/",
          "height": 430
        },
        "id": "x-zFTgZci5z4",
        "outputId": "6c6de2c0-05ca-4789-abaa-01e75a691906"
      },
      "execution_count": null,
      "outputs": [
        {
          "output_type": "display_data",
          "data": {
            "text/plain": [
              "<Figure size 640x480 with 1 Axes>"
            ],
            "image/png": "[encoded data removed]"
          },
          "metadata": {}
        }
      ]
    },
    {
      "cell_type": "code",
      "source": [],
      "metadata": {
        "id": "hepF6-lli97V"
      },
      "execution_count": null,
      "outputs": []
    }
  ]
}
